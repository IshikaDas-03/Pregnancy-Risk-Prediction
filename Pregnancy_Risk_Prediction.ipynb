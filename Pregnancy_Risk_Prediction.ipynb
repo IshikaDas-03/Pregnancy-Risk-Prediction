{
 "cells": [
  {
   "cell_type": "markdown",
   "metadata": {
    "id": "6SmlU-iLZuTS"
   },
   "source": [
    "**PREGNANCY RISK DETECTION USING MACHINE LEARNING ALGORITHMS**\n",
    "\n",
    "BY:\n",
    "\n",
    "* 2205289 - ISHIKA DAS\n",
    "\n",
    "* 2205815 - KAUSHIKI MONDAL\n",
    "\n",
    "* 22052154- SHALINI SUR\n",
    "\n",
    "SCHOOL OF COMPUTER ENGINEERING\n",
    "\n",
    "SECTION - CSE52\n",
    "\n",
    "SEMESTER - 06\n",
    "\n",
    "ACADEMIC SESSION - 2024-25\n",
    "\n",
    "\n",
    "\n"
   ]
  },
  {
   "cell_type": "markdown",
   "metadata": {
    "id": "47C9gTY4W1-P"
   },
   "source": [
    "UPLOADING THE DATASET"
   ]
  },
  {
   "cell_type": "code",
   "execution_count": 1,
   "metadata": {
    "colab": {
     "base_uri": "https://localhost:8080/",
     "height": 73
    },
    "id": "7ZXlWtQpKhjd",
    "outputId": "70654163-b12b-4bcf-c2dd-75b0a9060f95"
   },
   "outputs": [
    {
     "data": {
      "text/html": [
       "\n",
       "     <input type=\"file\" id=\"files-fd733848-ecdf-4e56-b3ca-b19d491050cb\" name=\"files[]\" multiple disabled\n",
       "        style=\"border:none\" />\n",
       "     <output id=\"result-fd733848-ecdf-4e56-b3ca-b19d491050cb\">\n",
       "      Upload widget is only available when the cell has been executed in the\n",
       "      current browser session. Please rerun this cell to enable.\n",
       "      </output>\n",
       "      <script>// Copyright 2017 Google LLC\n",
       "//\n",
       "// Licensed under the Apache License, Version 2.0 (the \"License\");\n",
       "// you may not use this file except in compliance with the License.\n",
       "// You may obtain a copy of the License at\n",
       "//\n",
       "//      http://www.apache.org/licenses/LICENSE-2.0\n",
       "//\n",
       "// Unless required by applicable law or agreed to in writing, software\n",
       "// distributed under the License is distributed on an \"AS IS\" BASIS,\n",
       "// WITHOUT WARRANTIES OR CONDITIONS OF ANY KIND, either express or implied.\n",
       "// See the License for the specific language governing permissions and\n",
       "// limitations under the License.\n",
       "\n",
       "/**\n",
       " * @fileoverview Helpers for google.colab Python module.\n",
       " */\n",
       "(function(scope) {\n",
       "function span(text, styleAttributes = {}) {\n",
       "  const element = document.createElement('span');\n",
       "  element.textContent = text;\n",
       "  for (const key of Object.keys(styleAttributes)) {\n",
       "    element.style[key] = styleAttributes[key];\n",
       "  }\n",
       "  return element;\n",
       "}\n",
       "\n",
       "// Max number of bytes which will be uploaded at a time.\n",
       "const MAX_PAYLOAD_SIZE = 100 * 1024;\n",
       "\n",
       "function _uploadFiles(inputId, outputId) {\n",
       "  const steps = uploadFilesStep(inputId, outputId);\n",
       "  const outputElement = document.getElementById(outputId);\n",
       "  // Cache steps on the outputElement to make it available for the next call\n",
       "  // to uploadFilesContinue from Python.\n",
       "  outputElement.steps = steps;\n",
       "\n",
       "  return _uploadFilesContinue(outputId);\n",
       "}\n",
       "\n",
       "// This is roughly an async generator (not supported in the browser yet),\n",
       "// where there are multiple asynchronous steps and the Python side is going\n",
       "// to poll for completion of each step.\n",
       "// This uses a Promise to block the python side on completion of each step,\n",
       "// then passes the result of the previous step as the input to the next step.\n",
       "function _uploadFilesContinue(outputId) {\n",
       "  const outputElement = document.getElementById(outputId);\n",
       "  const steps = outputElement.steps;\n",
       "\n",
       "  const next = steps.next(outputElement.lastPromiseValue);\n",
       "  return Promise.resolve(next.value.promise).then((value) => {\n",
       "    // Cache the last promise value to make it available to the next\n",
       "    // step of the generator.\n",
       "    outputElement.lastPromiseValue = value;\n",
       "    return next.value.response;\n",
       "  });\n",
       "}\n",
       "\n",
       "/**\n",
       " * Generator function which is called between each async step of the upload\n",
       " * process.\n",
       " * @param {string} inputId Element ID of the input file picker element.\n",
       " * @param {string} outputId Element ID of the output display.\n",
       " * @return {!Iterable<!Object>} Iterable of next steps.\n",
       " */\n",
       "function* uploadFilesStep(inputId, outputId) {\n",
       "  const inputElement = document.getElementById(inputId);\n",
       "  inputElement.disabled = false;\n",
       "\n",
       "  const outputElement = document.getElementById(outputId);\n",
       "  outputElement.innerHTML = '';\n",
       "\n",
       "  const pickedPromise = new Promise((resolve) => {\n",
       "    inputElement.addEventListener('change', (e) => {\n",
       "      resolve(e.target.files);\n",
       "    });\n",
       "  });\n",
       "\n",
       "  const cancel = document.createElement('button');\n",
       "  inputElement.parentElement.appendChild(cancel);\n",
       "  cancel.textContent = 'Cancel upload';\n",
       "  const cancelPromise = new Promise((resolve) => {\n",
       "    cancel.onclick = () => {\n",
       "      resolve(null);\n",
       "    };\n",
       "  });\n",
       "\n",
       "  // Wait for the user to pick the files.\n",
       "  const files = yield {\n",
       "    promise: Promise.race([pickedPromise, cancelPromise]),\n",
       "    response: {\n",
       "      action: 'starting',\n",
       "    }\n",
       "  };\n",
       "\n",
       "  cancel.remove();\n",
       "\n",
       "  // Disable the input element since further picks are not allowed.\n",
       "  inputElement.disabled = true;\n",
       "\n",
       "  if (!files) {\n",
       "    return {\n",
       "      response: {\n",
       "        action: 'complete',\n",
       "      }\n",
       "    };\n",
       "  }\n",
       "\n",
       "  for (const file of files) {\n",
       "    const li = document.createElement('li');\n",
       "    li.append(span(file.name, {fontWeight: 'bold'}));\n",
       "    li.append(span(\n",
       "        `(${file.type || 'n/a'}) - ${file.size} bytes, ` +\n",
       "        `last modified: ${\n",
       "            file.lastModifiedDate ? file.lastModifiedDate.toLocaleDateString() :\n",
       "                                    'n/a'} - `));\n",
       "    const percent = span('0% done');\n",
       "    li.appendChild(percent);\n",
       "\n",
       "    outputElement.appendChild(li);\n",
       "\n",
       "    const fileDataPromise = new Promise((resolve) => {\n",
       "      const reader = new FileReader();\n",
       "      reader.onload = (e) => {\n",
       "        resolve(e.target.result);\n",
       "      };\n",
       "      reader.readAsArrayBuffer(file);\n",
       "    });\n",
       "    // Wait for the data to be ready.\n",
       "    let fileData = yield {\n",
       "      promise: fileDataPromise,\n",
       "      response: {\n",
       "        action: 'continue',\n",
       "      }\n",
       "    };\n",
       "\n",
       "    // Use a chunked sending to avoid message size limits. See b/62115660.\n",
       "    let position = 0;\n",
       "    do {\n",
       "      const length = Math.min(fileData.byteLength - position, MAX_PAYLOAD_SIZE);\n",
       "      const chunk = new Uint8Array(fileData, position, length);\n",
       "      position += length;\n",
       "\n",
       "      const base64 = btoa(String.fromCharCode.apply(null, chunk));\n",
       "      yield {\n",
       "        response: {\n",
       "          action: 'append',\n",
       "          file: file.name,\n",
       "          data: base64,\n",
       "        },\n",
       "      };\n",
       "\n",
       "      let percentDone = fileData.byteLength === 0 ?\n",
       "          100 :\n",
       "          Math.round((position / fileData.byteLength) * 100);\n",
       "      percent.textContent = `${percentDone}% done`;\n",
       "\n",
       "    } while (position < fileData.byteLength);\n",
       "  }\n",
       "\n",
       "  // All done.\n",
       "  yield {\n",
       "    response: {\n",
       "      action: 'complete',\n",
       "    }\n",
       "  };\n",
       "}\n",
       "\n",
       "scope.google = scope.google || {};\n",
       "scope.google.colab = scope.google.colab || {};\n",
       "scope.google.colab._files = {\n",
       "  _uploadFiles,\n",
       "  _uploadFilesContinue,\n",
       "};\n",
       "})(self);\n",
       "</script> "
      ],
      "text/plain": [
       "<IPython.core.display.HTML object>"
      ]
     },
     "metadata": {},
     "output_type": "display_data"
    },
    {
     "name": "stdout",
     "output_type": "stream",
     "text": [
      "Saving Pregnancy dataset.csv to Pregnancy dataset.csv\n"
     ]
    }
   ],
   "source": [
    "from google.colab import files\n",
    "uploaded = files.upload()"
   ]
  },
  {
   "cell_type": "markdown",
   "metadata": {
    "id": "OEdx0G7zW9nT"
   },
   "source": [
    "READ THE DATASET"
   ]
  },
  {
   "cell_type": "code",
   "execution_count": 2,
   "metadata": {
    "colab": {
     "base_uri": "https://localhost:8080/",
     "height": 241
    },
    "id": "KA80JUaJPCOO",
    "outputId": "dc6e48ef-7b53-49a5-f4ac-519b24af06de"
   },
   "outputs": [
    {
     "data": {
      "application/vnd.google.colaboratory.intrinsic+json": {
       "summary": "{\n  \"name\": \"df\",\n  \"rows\": 6103,\n  \"fields\": [\n    {\n      \"column\": \"Patient ID\",\n      \"properties\": {\n        \"dtype\": \"number\",\n        \"std\": 6604,\n        \"min\": 1993365,\n        \"max\": 2013179,\n        \"num_unique_values\": 6103,\n        \"samples\": [\n          2001630,\n          2011843,\n          2011793\n        ],\n        \"semantic_type\": \"\",\n        \"description\": \"\"\n      }\n    },\n    {\n      \"column\": \"Name\",\n      \"properties\": {\n        \"dtype\": \"string\",\n        \"num_unique_values\": 5797,\n        \"samples\": [\n          \"Sriksha\",\n          \"Sharmista\",\n          \"Jainel\"\n        ],\n        \"semantic_type\": \"\",\n        \"description\": \"\"\n      }\n    },\n    {\n      \"column\": \"Age\",\n      \"properties\": {\n        \"dtype\": \"number\",\n        \"std\": 6,\n        \"min\": 15,\n        \"max\": 250,\n        \"num_unique_values\": 35,\n        \"samples\": [\n          43,\n          33,\n          40\n        ],\n        \"semantic_type\": \"\",\n        \"description\": \"\"\n      }\n    },\n    {\n      \"column\": \"Body Temperature\",\n      \"properties\": {\n        \"dtype\": \"number\",\n        \"std\": 1.5909825148356396,\n        \"min\": 39.6,\n        \"max\": 104.0,\n        \"num_unique_values\": 104,\n        \"samples\": [\n          100.9,\n          94.1,\n          96.6\n        ],\n        \"semantic_type\": \"\",\n        \"description\": \"\"\n      }\n    },\n    {\n      \"column\": \"Heart rate(bpm)\",\n      \"properties\": {\n        \"dtype\": \"number\",\n        \"std\": 22,\n        \"min\": 45,\n        \"max\": 150,\n        \"num_unique_values\": 106,\n        \"samples\": [\n          123,\n          79,\n          51\n        ],\n        \"semantic_type\": \"\",\n        \"description\": \"\"\n      }\n    },\n    {\n      \"column\": \"Systolic Blood Pressure(mm Hg)\",\n      \"properties\": {\n        \"dtype\": \"number\",\n        \"std\": 17,\n        \"min\": 90,\n        \"max\": 169,\n        \"num_unique_values\": 79,\n        \"samples\": [\n          131,\n          161,\n          116\n        ],\n        \"semantic_type\": \"\",\n        \"description\": \"\"\n      }\n    },\n    {\n      \"column\": \"Diastolic Blood Pressure(mm Hg)\",\n      \"properties\": {\n        \"dtype\": \"number\",\n        \"std\": 7,\n        \"min\": 9,\n        \"max\": 142,\n        \"num_unique_values\": 65,\n        \"samples\": [\n          117,\n          114,\n          100\n        ],\n        \"semantic_type\": \"\",\n        \"description\": \"\"\n      }\n    },\n    {\n      \"column\": \"BMI\",\n      \"properties\": {\n        \"dtype\": \"number\",\n        \"std\": 2.157060283162956,\n        \"min\": 14.9,\n        \"max\": 27.9,\n        \"num_unique_values\": 127,\n        \"samples\": [\n          21.8,\n          16.6,\n          18.4\n        ],\n        \"semantic_type\": \"\",\n        \"description\": \"\"\n      }\n    },\n    {\n      \"column\": \"Blood Glucose(HbA1c)\",\n      \"properties\": {\n        \"dtype\": \"number\",\n        \"std\": 4,\n        \"min\": 30,\n        \"max\": 50,\n        \"num_unique_values\": 21,\n        \"samples\": [\n          41,\n          43,\n          47\n        ],\n        \"semantic_type\": \"\",\n        \"description\": \"\"\n      }\n    },\n    {\n      \"column\": \"Blood Glucose(Fasting hour-mg/dl)\",\n      \"properties\": {\n        \"dtype\": \"number\",\n        \"std\": 0.9053269462102326,\n        \"min\": 3.5,\n        \"max\": 8.9,\n        \"num_unique_values\": 49,\n        \"samples\": [\n          6.8,\n          3.6,\n          8.2\n        ],\n        \"semantic_type\": \"\",\n        \"description\": \"\"\n      }\n    },\n    {\n      \"column\": \"Outcome\",\n      \"properties\": {\n        \"dtype\": \"category\",\n        \"num_unique_values\": 3,\n        \"samples\": [\n          \"high risk\",\n          \"mid risk\",\n          \"low risk\"\n        ],\n        \"semantic_type\": \"\",\n        \"description\": \"\"\n      }\n    }\n  ]\n}",
       "type": "dataframe",
       "variable_name": "df"
      },
      "text/html": [
       "\n",
       "  <div id=\"df-42566558-4387-48c4-b6ec-b8649a8ae34f\" class=\"colab-df-container\">\n",
       "    <div>\n",
       "<style scoped>\n",
       "    .dataframe tbody tr th:only-of-type {\n",
       "        vertical-align: middle;\n",
       "    }\n",
       "\n",
       "    .dataframe tbody tr th {\n",
       "        vertical-align: top;\n",
       "    }\n",
       "\n",
       "    .dataframe thead th {\n",
       "        text-align: right;\n",
       "    }\n",
       "</style>\n",
       "<table border=\"1\" class=\"dataframe\">\n",
       "  <thead>\n",
       "    <tr style=\"text-align: right;\">\n",
       "      <th></th>\n",
       "      <th>Patient ID</th>\n",
       "      <th>Name</th>\n",
       "      <th>Age</th>\n",
       "      <th>Body Temperature</th>\n",
       "      <th>Heart rate(bpm)</th>\n",
       "      <th>Systolic Blood Pressure(mm Hg)</th>\n",
       "      <th>Diastolic Blood Pressure(mm Hg)</th>\n",
       "      <th>BMI</th>\n",
       "      <th>Blood Glucose(HbA1c)</th>\n",
       "      <th>Blood Glucose(Fasting hour-mg/dl)</th>\n",
       "      <th>Outcome</th>\n",
       "    </tr>\n",
       "  </thead>\n",
       "  <tbody>\n",
       "    <tr>\n",
       "      <th>0</th>\n",
       "      <td>1994601</td>\n",
       "      <td>Moulya</td>\n",
       "      <td>20</td>\n",
       "      <td>97.5</td>\n",
       "      <td>91</td>\n",
       "      <td>161</td>\n",
       "      <td>100</td>\n",
       "      <td>24.9</td>\n",
       "      <td>41</td>\n",
       "      <td>5.8</td>\n",
       "      <td>high risk</td>\n",
       "    </tr>\n",
       "    <tr>\n",
       "      <th>1</th>\n",
       "      <td>2001562</td>\n",
       "      <td>Soni</td>\n",
       "      <td>45</td>\n",
       "      <td>97.7</td>\n",
       "      <td>99</td>\n",
       "      <td>99</td>\n",
       "      <td>94</td>\n",
       "      <td>22.1</td>\n",
       "      <td>36</td>\n",
       "      <td>5.7</td>\n",
       "      <td>high risk</td>\n",
       "    </tr>\n",
       "    <tr>\n",
       "      <th>2</th>\n",
       "      <td>2002530</td>\n",
       "      <td>Baishali</td>\n",
       "      <td>29</td>\n",
       "      <td>98.6</td>\n",
       "      <td>84</td>\n",
       "      <td>129</td>\n",
       "      <td>87</td>\n",
       "      <td>19.0</td>\n",
       "      <td>42</td>\n",
       "      <td>6.4</td>\n",
       "      <td>mid risk</td>\n",
       "    </tr>\n",
       "    <tr>\n",
       "      <th>3</th>\n",
       "      <td>2002114</td>\n",
       "      <td>Abhilasha</td>\n",
       "      <td>26</td>\n",
       "      <td>99.5</td>\n",
       "      <td>135</td>\n",
       "      <td>161</td>\n",
       "      <td>101</td>\n",
       "      <td>23.7</td>\n",
       "      <td>46</td>\n",
       "      <td>4.5</td>\n",
       "      <td>high risk</td>\n",
       "    </tr>\n",
       "    <tr>\n",
       "      <th>4</th>\n",
       "      <td>2002058</td>\n",
       "      <td>Aanaya</td>\n",
       "      <td>38</td>\n",
       "      <td>102.5</td>\n",
       "      <td>51</td>\n",
       "      <td>106</td>\n",
       "      <td>91</td>\n",
       "      <td>18.8</td>\n",
       "      <td>38</td>\n",
       "      <td>4.3</td>\n",
       "      <td>high risk</td>\n",
       "    </tr>\n",
       "  </tbody>\n",
       "</table>\n",
       "</div>\n",
       "    <div class=\"colab-df-buttons\">\n",
       "\n",
       "  <div class=\"colab-df-container\">\n",
       "    <button class=\"colab-df-convert\" onclick=\"convertToInteractive('df-42566558-4387-48c4-b6ec-b8649a8ae34f')\"\n",
       "            title=\"Convert this dataframe to an interactive table.\"\n",
       "            style=\"display:none;\">\n",
       "\n",
       "  <svg xmlns=\"http://www.w3.org/2000/svg\" height=\"24px\" viewBox=\"0 -960 960 960\">\n",
       "    <path d=\"M120-120v-720h720v720H120Zm60-500h600v-160H180v160Zm220 220h160v-160H400v160Zm0 220h160v-160H400v160ZM180-400h160v-160H180v160Zm440 0h160v-160H620v160ZM180-180h160v-160H180v160Zm440 0h160v-160H620v160Z\"/>\n",
       "  </svg>\n",
       "    </button>\n",
       "\n",
       "  <style>\n",
       "    .colab-df-container {\n",
       "      display:flex;\n",
       "      gap: 12px;\n",
       "    }\n",
       "\n",
       "    .colab-df-convert {\n",
       "      background-color: #E8F0FE;\n",
       "      border: none;\n",
       "      border-radius: 50%;\n",
       "      cursor: pointer;\n",
       "      display: none;\n",
       "      fill: #1967D2;\n",
       "      height: 32px;\n",
       "      padding: 0 0 0 0;\n",
       "      width: 32px;\n",
       "    }\n",
       "\n",
       "    .colab-df-convert:hover {\n",
       "      background-color: #E2EBFA;\n",
       "      box-shadow: 0px 1px 2px rgba(60, 64, 67, 0.3), 0px 1px 3px 1px rgba(60, 64, 67, 0.15);\n",
       "      fill: #174EA6;\n",
       "    }\n",
       "\n",
       "    .colab-df-buttons div {\n",
       "      margin-bottom: 4px;\n",
       "    }\n",
       "\n",
       "    [theme=dark] .colab-df-convert {\n",
       "      background-color: #3B4455;\n",
       "      fill: #D2E3FC;\n",
       "    }\n",
       "\n",
       "    [theme=dark] .colab-df-convert:hover {\n",
       "      background-color: #434B5C;\n",
       "      box-shadow: 0px 1px 3px 1px rgba(0, 0, 0, 0.15);\n",
       "      filter: drop-shadow(0px 1px 2px rgba(0, 0, 0, 0.3));\n",
       "      fill: #FFFFFF;\n",
       "    }\n",
       "  </style>\n",
       "\n",
       "    <script>\n",
       "      const buttonEl =\n",
       "        document.querySelector('#df-42566558-4387-48c4-b6ec-b8649a8ae34f button.colab-df-convert');\n",
       "      buttonEl.style.display =\n",
       "        google.colab.kernel.accessAllowed ? 'block' : 'none';\n",
       "\n",
       "      async function convertToInteractive(key) {\n",
       "        const element = document.querySelector('#df-42566558-4387-48c4-b6ec-b8649a8ae34f');\n",
       "        const dataTable =\n",
       "          await google.colab.kernel.invokeFunction('convertToInteractive',\n",
       "                                                    [key], {});\n",
       "        if (!dataTable) return;\n",
       "\n",
       "        const docLinkHtml = 'Like what you see? Visit the ' +\n",
       "          '<a target=\"_blank\" href=https://colab.research.google.com/notebooks/data_table.ipynb>data table notebook</a>'\n",
       "          + ' to learn more about interactive tables.';\n",
       "        element.innerHTML = '';\n",
       "        dataTable['output_type'] = 'display_data';\n",
       "        await google.colab.output.renderOutput(dataTable, element);\n",
       "        const docLink = document.createElement('div');\n",
       "        docLink.innerHTML = docLinkHtml;\n",
       "        element.appendChild(docLink);\n",
       "      }\n",
       "    </script>\n",
       "  </div>\n",
       "\n",
       "\n",
       "<div id=\"df-458e4a2d-b31c-4fa1-88c9-1cd8c76c1150\">\n",
       "  <button class=\"colab-df-quickchart\" onclick=\"quickchart('df-458e4a2d-b31c-4fa1-88c9-1cd8c76c1150')\"\n",
       "            title=\"Suggest charts\"\n",
       "            style=\"display:none;\">\n",
       "\n",
       "<svg xmlns=\"http://www.w3.org/2000/svg\" height=\"24px\"viewBox=\"0 0 24 24\"\n",
       "     width=\"24px\">\n",
       "    <g>\n",
       "        <path d=\"M19 3H5c-1.1 0-2 .9-2 2v14c0 1.1.9 2 2 2h14c1.1 0 2-.9 2-2V5c0-1.1-.9-2-2-2zM9 17H7v-7h2v7zm4 0h-2V7h2v10zm4 0h-2v-4h2v4z\"/>\n",
       "    </g>\n",
       "</svg>\n",
       "  </button>\n",
       "\n",
       "<style>\n",
       "  .colab-df-quickchart {\n",
       "      --bg-color: #E8F0FE;\n",
       "      --fill-color: #1967D2;\n",
       "      --hover-bg-color: #E2EBFA;\n",
       "      --hover-fill-color: #174EA6;\n",
       "      --disabled-fill-color: #AAA;\n",
       "      --disabled-bg-color: #DDD;\n",
       "  }\n",
       "\n",
       "  [theme=dark] .colab-df-quickchart {\n",
       "      --bg-color: #3B4455;\n",
       "      --fill-color: #D2E3FC;\n",
       "      --hover-bg-color: #434B5C;\n",
       "      --hover-fill-color: #FFFFFF;\n",
       "      --disabled-bg-color: #3B4455;\n",
       "      --disabled-fill-color: #666;\n",
       "  }\n",
       "\n",
       "  .colab-df-quickchart {\n",
       "    background-color: var(--bg-color);\n",
       "    border: none;\n",
       "    border-radius: 50%;\n",
       "    cursor: pointer;\n",
       "    display: none;\n",
       "    fill: var(--fill-color);\n",
       "    height: 32px;\n",
       "    padding: 0;\n",
       "    width: 32px;\n",
       "  }\n",
       "\n",
       "  .colab-df-quickchart:hover {\n",
       "    background-color: var(--hover-bg-color);\n",
       "    box-shadow: 0 1px 2px rgba(60, 64, 67, 0.3), 0 1px 3px 1px rgba(60, 64, 67, 0.15);\n",
       "    fill: var(--button-hover-fill-color);\n",
       "  }\n",
       "\n",
       "  .colab-df-quickchart-complete:disabled,\n",
       "  .colab-df-quickchart-complete:disabled:hover {\n",
       "    background-color: var(--disabled-bg-color);\n",
       "    fill: var(--disabled-fill-color);\n",
       "    box-shadow: none;\n",
       "  }\n",
       "\n",
       "  .colab-df-spinner {\n",
       "    border: 2px solid var(--fill-color);\n",
       "    border-color: transparent;\n",
       "    border-bottom-color: var(--fill-color);\n",
       "    animation:\n",
       "      spin 1s steps(1) infinite;\n",
       "  }\n",
       "\n",
       "  @keyframes spin {\n",
       "    0% {\n",
       "      border-color: transparent;\n",
       "      border-bottom-color: var(--fill-color);\n",
       "      border-left-color: var(--fill-color);\n",
       "    }\n",
       "    20% {\n",
       "      border-color: transparent;\n",
       "      border-left-color: var(--fill-color);\n",
       "      border-top-color: var(--fill-color);\n",
       "    }\n",
       "    30% {\n",
       "      border-color: transparent;\n",
       "      border-left-color: var(--fill-color);\n",
       "      border-top-color: var(--fill-color);\n",
       "      border-right-color: var(--fill-color);\n",
       "    }\n",
       "    40% {\n",
       "      border-color: transparent;\n",
       "      border-right-color: var(--fill-color);\n",
       "      border-top-color: var(--fill-color);\n",
       "    }\n",
       "    60% {\n",
       "      border-color: transparent;\n",
       "      border-right-color: var(--fill-color);\n",
       "    }\n",
       "    80% {\n",
       "      border-color: transparent;\n",
       "      border-right-color: var(--fill-color);\n",
       "      border-bottom-color: var(--fill-color);\n",
       "    }\n",
       "    90% {\n",
       "      border-color: transparent;\n",
       "      border-bottom-color: var(--fill-color);\n",
       "    }\n",
       "  }\n",
       "</style>\n",
       "\n",
       "  <script>\n",
       "    async function quickchart(key) {\n",
       "      const quickchartButtonEl =\n",
       "        document.querySelector('#' + key + ' button');\n",
       "      quickchartButtonEl.disabled = true;  // To prevent multiple clicks.\n",
       "      quickchartButtonEl.classList.add('colab-df-spinner');\n",
       "      try {\n",
       "        const charts = await google.colab.kernel.invokeFunction(\n",
       "            'suggestCharts', [key], {});\n",
       "      } catch (error) {\n",
       "        console.error('Error during call to suggestCharts:', error);\n",
       "      }\n",
       "      quickchartButtonEl.classList.remove('colab-df-spinner');\n",
       "      quickchartButtonEl.classList.add('colab-df-quickchart-complete');\n",
       "    }\n",
       "    (() => {\n",
       "      let quickchartButtonEl =\n",
       "        document.querySelector('#df-458e4a2d-b31c-4fa1-88c9-1cd8c76c1150 button');\n",
       "      quickchartButtonEl.style.display =\n",
       "        google.colab.kernel.accessAllowed ? 'block' : 'none';\n",
       "    })();\n",
       "  </script>\n",
       "</div>\n",
       "\n",
       "    </div>\n",
       "  </div>\n"
      ],
      "text/plain": [
       "   Patient ID       Name  Age  Body Temperature  Heart rate(bpm)  \\\n",
       "0     1994601     Moulya   20              97.5               91   \n",
       "1     2001562       Soni   45              97.7               99   \n",
       "2     2002530   Baishali   29              98.6               84   \n",
       "3     2002114  Abhilasha   26              99.5              135   \n",
       "4     2002058     Aanaya   38             102.5               51   \n",
       "\n",
       "   Systolic Blood Pressure(mm Hg)  Diastolic Blood Pressure(mm Hg)   BMI  \\\n",
       "0                             161                              100  24.9   \n",
       "1                              99                               94  22.1   \n",
       "2                             129                               87  19.0   \n",
       "3                             161                              101  23.7   \n",
       "4                             106                               91  18.8   \n",
       "\n",
       "   Blood Glucose(HbA1c)  Blood Glucose(Fasting hour-mg/dl)    Outcome  \n",
       "0                    41                                5.8  high risk  \n",
       "1                    36                                5.7  high risk  \n",
       "2                    42                                6.4   mid risk  \n",
       "3                    46                                4.5  high risk  \n",
       "4                    38                                4.3  high risk  "
      ]
     },
     "execution_count": 2,
     "metadata": {},
     "output_type": "execute_result"
    }
   ],
   "source": [
    "import pandas as pd\n",
    "\n",
    "\n",
    "df = pd.read_csv('Pregnancy dataset.csv', encoding='latin-1')\n",
    "\n",
    "df.head()"
   ]
  },
  {
   "cell_type": "markdown",
   "metadata": {
    "id": "4ButvJM9XKsk"
   },
   "source": [
    "CONVERTING THE OUTCOME TO NUMERIC DATA"
   ]
  },
  {
   "cell_type": "code",
   "execution_count": 3,
   "metadata": {
    "id": "X6IDrqTXPaGn"
   },
   "outputs": [],
   "source": [
    "mapping = {\"low risk\": 0, \"mid risk\": 1, \"high risk\": 2}\n",
    "df[\"Outcome\"] = df[\"Outcome\"].map(mapping)"
   ]
  },
  {
   "cell_type": "code",
   "execution_count": 4,
   "metadata": {
    "id": "uxVvqv5WPurJ"
   },
   "outputs": [],
   "source": [
    "df.drop(columns=[\"Name\"], inplace=True)"
   ]
  },
  {
   "cell_type": "code",
   "execution_count": 5,
   "metadata": {
    "id": "lZKcfrJcP3zQ"
   },
   "outputs": [],
   "source": [
    "df.drop(columns=[\"Patient ID\"], inplace=True, errors=\"ignore\")"
   ]
  },
  {
   "cell_type": "code",
   "execution_count": 6,
   "metadata": {
    "colab": {
     "base_uri": "https://localhost:8080/",
     "height": 0
    },
    "id": "B8QaI40mQWQq",
    "outputId": "1dd04b7b-3d5c-427e-cc7f-78e3b5718291"
   },
   "outputs": [
    {
     "name": "stdout",
     "output_type": "stream",
     "text": [
      "Outcome                              1.000000\n",
      "Blood Glucose(Fasting hour-mg/dl)    0.283238\n",
      "Heart rate(bpm)                      0.275162\n",
      "Diastolic Blood Pressure(mm Hg)      0.223379\n",
      "Blood Glucose(HbA1c)                 0.193858\n",
      "Age                                  0.193602\n",
      "BMI                                  0.111393\n",
      "Body Temperature                     0.076569\n",
      "Systolic Blood Pressure(mm Hg)       0.064440\n",
      "Name: Outcome, dtype: float64\n"
     ]
    }
   ],
   "source": [
    "correlation = df.corr()[\"Outcome\"].abs().sort_values(ascending=False)\n",
    "print(correlation)"
   ]
  },
  {
   "cell_type": "markdown",
   "metadata": {
    "id": "V_J6_q5bXXVz"
   },
   "source": [
    "SHOWING THE DISTRIBUTION OF TARGET VARIABLE"
   ]
  },
  {
   "cell_type": "code",
   "execution_count": 7,
   "metadata": {
    "colab": {
     "base_uri": "https://localhost:8080/",
     "height": 666
    },
    "id": "rgpJhhHNQazz",
    "outputId": "ab79e0ff-e7cc-4140-aa4c-90affc06184e"
   },
   "outputs": [
    {
     "name": "stderr",
     "output_type": "stream",
     "text": [
      "<ipython-input-7-95ec01f40e45>:6: FutureWarning: \n",
      "\n",
      "Passing `palette` without assigning `hue` is deprecated and will be removed in v0.14.0. Assign the `x` variable to `hue` and set `legend=False` for the same effect.\n",
      "\n",
      "  sns.countplot(x=y, palette=\"viridis\")\n"
     ]
    },
    {
     "data": {
      "image/png": "[encoded data removed]",
      "text/plain": [
       "<Figure size 640x480 with 1 Axes>"
      ]
     },
     "metadata": {},
     "output_type": "display_data"
    },
    {
     "name": "stdout",
     "output_type": "stream",
     "text": [
      "Outcome\n",
      "2    2059\n",
      "1    2043\n",
      "0    2001\n",
      "Name: count, dtype: int64\n"
     ]
    }
   ],
   "source": [
    "import seaborn as sns\n",
    "import matplotlib.pyplot as plt\n",
    "\n",
    "y = df[\"Outcome\"]\n",
    "\n",
    "sns.countplot(x=y, palette=\"viridis\")\n",
    "plt.title(\"Distribution of Target Variable\")\n",
    "plt.xlabel(\"Target Classes\")\n",
    "plt.ylabel(\"Count\")\n",
    "plt.show()\n",
    "\n",
    "target_temp = df[\"Outcome\"].value_counts()\n",
    "print(target_temp)"
   ]
  },
  {
   "cell_type": "markdown",
   "metadata": {
    "id": "VjN586lyXj-9"
   },
   "source": [
    "PIE CHART WITH REFERENCE TO THE RISK LEVEL"
   ]
  },
  {
   "cell_type": "code",
   "execution_count": 8,
   "metadata": {
    "colab": {
     "base_uri": "https://localhost:8080/",
     "height": 676
    },
    "id": "Pu5vYQEOQkyF",
    "outputId": "03b30b19-19d2-452d-e5dd-1e0a072688b7"
   },
   "outputs": [
    {
     "data": {
      "image/png": "[encoded data removed]",
      "text/plain": [
       "<Figure size 800x800 with 1 Axes>"
      ]
     },
     "metadata": {},
     "output_type": "display_data"
    }
   ],
   "source": [
    "class_counts = df[\"Outcome\"].value_counts()\n",
    "\n",
    "labels = [\"Low Risk\", \"Mid Risk\", \"High Risk\"]\n",
    "colors = [\"#66c2a5\", \"#fc8d62\", \"#8da0cb\"]\n",
    "\n",
    "plt.figure(figsize=(8, 8))\n",
    "plt.pie(class_counts, labels=labels, autopct='%1.1f%%', colors=colors, startangle=140, wedgeprops={'edgecolor': 'black'})\n",
    "\n",
    "plt.title(\"Percentage of Patients by Risk Level\", fontsize=14)\n",
    "\n",
    "plt.show()"
   ]
  },
  {
   "cell_type": "markdown",
   "metadata": {
    "id": "Pb4cfqvZXxFS"
   },
   "source": [
    "PLOT WITH RESPECT TO THE AGE GROUP"
   ]
  },
  {
   "cell_type": "code",
   "execution_count": 9,
   "metadata": {
    "colab": {
     "base_uri": "https://localhost:8080/",
     "height": 579
    },
    "id": "Y4PaOvDSQtRF",
    "outputId": "2541ca6a-b7de-4c45-9e9b-a445574126bd"
   },
   "outputs": [
    {
     "data": {
      "image/png": "[encoded data removed]",
      "text/plain": [
       "<Figure size 1200x600 with 1 Axes>"
      ]
     },
     "metadata": {},
     "output_type": "display_data"
    }
   ],
   "source": [
    "plt.figure(figsize=(12, 6))\n",
    "sns.countplot(x=\"Age\", hue=\"Outcome\", data=df, palette=\"viridis\")\n",
    "\n",
    "plt.xlabel(\"Age\")\n",
    "plt.ylabel(\"Number of Patients\")\n",
    "plt.title(\"Pregnancy Risk Levels by Age Group\")\n",
    "plt.legend(title=\"Risk Level\", labels=[\"Low Risk (0)\", \"Mid Risk (1)\", \"High Risk (2)\"])\n",
    "plt.xticks(rotation=45)\n",
    "plt.show()"
   ]
  },
  {
   "cell_type": "markdown",
   "metadata": {
    "id": "8hMezqTIX5WG"
   },
   "source": [
    "TRAINING & TESTING THE DATASET"
   ]
  },
  {
   "cell_type": "code",
   "execution_count": 10,
   "metadata": {
    "id": "jyuZaO_5Q3Fl"
   },
   "outputs": [],
   "source": [
    "from sklearn.model_selection import train_test_split\n",
    "\n",
    "predictors = df.drop(\"Outcome\",axis=1)\n",
    "target = df[\"Outcome\"]\n",
    "\n",
    "X_train,X_test,Y_train,Y_test = train_test_split(predictors,target,test_size=0.20,random_state=0)"
   ]
  },
  {
   "cell_type": "code",
   "execution_count": 11,
   "metadata": {
    "colab": {
     "base_uri": "https://localhost:8080/",
     "height": 0
    },
    "id": "ARiECZWNRZwg",
    "outputId": "ea89ea52-35fa-46a9-eae6-9628350c5dff"
   },
   "outputs": [
    {
     "data": {
      "text/plain": [
       "(1221, 8)"
      ]
     },
     "execution_count": 11,
     "metadata": {},
     "output_type": "execute_result"
    }
   ],
   "source": [
    "X_train.shape\n",
    "X_test.shape"
   ]
  },
  {
   "cell_type": "markdown",
   "metadata": {
    "id": "5tEb2I4KYBMO"
   },
   "source": [
    "CHECKING THE ACCURACIES OF ALL THE MODELS"
   ]
  },
  {
   "cell_type": "code",
   "execution_count": 12,
   "metadata": {
    "id": "x0cGmigzRdd7"
   },
   "outputs": [],
   "source": [
    "from sklearn.metrics import accuracy_score"
   ]
  },
  {
   "cell_type": "code",
   "execution_count": 13,
   "metadata": {
    "colab": {
     "base_uri": "https://localhost:8080/",
     "height": 0
    },
    "id": "XgSZ-q-wRx2J",
    "outputId": "7b31e4e4-c4f9-4100-d7d0-381faf0ab820"
   },
   "outputs": [
    {
     "name": "stdout",
     "output_type": "stream",
     "text": [
      "The accuracy score achieved using Logistic Regression is: 54.71 %\n"
     ]
    },
    {
     "name": "stderr",
     "output_type": "stream",
     "text": [
      "/usr/local/lib/python3.11/dist-packages/sklearn/linear_model/_logistic.py:465: ConvergenceWarning: lbfgs failed to converge (status=1):\n",
      "STOP: TOTAL NO. of ITERATIONS REACHED LIMIT.\n",
      "\n",
      "Increase the number of iterations (max_iter) or scale the data as shown in:\n",
      "    https://scikit-learn.org/stable/modules/preprocessing.html\n",
      "Please also refer to the documentation for alternative solver options:\n",
      "    https://scikit-learn.org/stable/modules/linear_model.html#logistic-regression\n",
      "  n_iter_i = _check_optimize_result(\n"
     ]
    }
   ],
   "source": [
    "from sklearn.linear_model import LogisticRegression\n",
    "\n",
    "lr = LogisticRegression()\n",
    "\n",
    "lr.fit(X_train,Y_train)\n",
    "\n",
    "Y_pred_lr = lr.predict(X_test)\n",
    "score_lr = round(accuracy_score(Y_pred_lr,Y_test)*100,2)\n",
    "\n",
    "print(\"The accuracy score achieved using Logistic Regression is: \"+str(score_lr)+\" %\")\n"
   ]
  },
  {
   "cell_type": "code",
   "execution_count": 14,
   "metadata": {
    "colab": {
     "base_uri": "https://localhost:8080/",
     "height": 0
    },
    "id": "mPFZ6y7jR6jb",
    "outputId": "f49e132d-8416-470b-d749-44e373050660"
   },
   "outputs": [
    {
     "name": "stdout",
     "output_type": "stream",
     "text": [
      "The accuracy score achieved using Naive Bayes is: 79.93 %\n"
     ]
    }
   ],
   "source": [
    "from sklearn.naive_bayes import GaussianNB\n",
    "\n",
    "nb = GaussianNB()\n",
    "\n",
    "nb.fit(X_train,Y_train)\n",
    "\n",
    "Y_pred_nb = nb.predict(X_test)\n",
    "score_nb = round(accuracy_score(Y_pred_nb,Y_test)*100,2)\n",
    "\n",
    "print(\"The accuracy score achieved using Naive Bayes is: \"+str(score_nb)+\" %\")"
   ]
  },
  {
   "cell_type": "code",
   "execution_count": 15,
   "metadata": {
    "colab": {
     "base_uri": "https://localhost:8080/",
     "height": 0
    },
    "id": "YWWSLR1rSJP_",
    "outputId": "8c093bad-8018-436c-a0a3-932b60ad1a70"
   },
   "outputs": [
    {
     "name": "stdout",
     "output_type": "stream",
     "text": [
      "The accuracy score achieved using Linear SVM is: 59.38 %\n"
     ]
    }
   ],
   "source": [
    "from sklearn import svm\n",
    "\n",
    "sv = svm.SVC(kernel='linear')\n",
    "\n",
    "sv.fit(X_train, Y_train)\n",
    "\n",
    "Y_pred_svm = sv.predict(X_test)\n",
    "score_svm = round(accuracy_score(Y_pred_svm,Y_test)*100,2)\n",
    "\n",
    "print(\"The accuracy score achieved using Linear SVM is: \"+str(score_svm)+\" %\")"
   ]
  },
  {
   "cell_type": "code",
   "execution_count": 16,
   "metadata": {
    "colab": {
     "base_uri": "https://localhost:8080/",
     "height": 0
    },
    "id": "k0CBgPXSSYNA",
    "outputId": "3687b3cb-b1e5-4896-8787-21e1fbf4aaf6"
   },
   "outputs": [
    {
     "name": "stdout",
     "output_type": "stream",
     "text": [
      "The accuracy score achieved using KNN is: 87.47 %\n"
     ]
    }
   ],
   "source": [
    "from sklearn.neighbors import KNeighborsClassifier\n",
    "\n",
    "knn = KNeighborsClassifier(n_neighbors=7)\n",
    "knn.fit(X_train,Y_train)\n",
    "Y_pred_knn=knn.predict(X_test)\n",
    "score_knn = round(accuracy_score(Y_pred_knn,Y_test)*100,2)\n",
    "\n",
    "print(\"The accuracy score achieved using KNN is: \"+str(score_knn)+\" %\")"
   ]
  },
  {
   "cell_type": "code",
   "execution_count": 17,
   "metadata": {
    "colab": {
     "base_uri": "https://localhost:8080/",
     "height": 0
    },
    "id": "syO07R8zSl83",
    "outputId": "72eb283f-7d77-43c5-882a-7251ca6281fd"
   },
   "outputs": [
    {
     "name": "stdout",
     "output_type": "stream",
     "text": [
      "The accuracy score achieved using Decision Tree is: 98.44 %\n"
     ]
    }
   ],
   "source": [
    "from sklearn.tree import DecisionTreeClassifier\n",
    "\n",
    "max_accuracy = 0\n",
    "\n",
    "\n",
    "for x in range(500):\n",
    "    dt = DecisionTreeClassifier(random_state=x)\n",
    "    dt.fit(X_train,Y_train)\n",
    "    Y_pred_dt = dt.predict(X_test)\n",
    "    current_accuracy = round(accuracy_score(Y_pred_dt,Y_test)*100,2)\n",
    "    if(current_accuracy>max_accuracy):\n",
    "        max_accuracy = current_accuracy\n",
    "        best_x = x\n",
    "\n",
    "\n",
    "\n",
    "\n",
    "dt = DecisionTreeClassifier(random_state=best_x)\n",
    "dt.fit(X_train,Y_train)\n",
    "Y_pred_dt = dt.predict(X_test)\n",
    "score_dt = round(accuracy_score(Y_pred_dt,Y_test)*100,2)\n",
    "\n",
    "print(\"The accuracy score achieved using Decision Tree is: \"+str(score_dt)+\" %\")"
   ]
  },
  {
   "cell_type": "code",
   "execution_count": 18,
   "metadata": {
    "colab": {
     "base_uri": "https://localhost:8080/",
     "height": 0
    },
    "id": "5Eu5J04_S1Ep",
    "outputId": "6e1bb6ad-eb5c-4d31-a056-a2628a5e1839"
   },
   "outputs": [
    {
     "name": "stdout",
     "output_type": "stream",
     "text": [
      "The accuracy score achieved using Random forest is: 99.51 %\n"
     ]
    }
   ],
   "source": [
    "from sklearn.ensemble import RandomForestClassifier\n",
    "\n",
    "max_accuracy = 0\n",
    "for x in range(2000):\n",
    "    rf = RandomForestClassifier(random_state=x)\n",
    "    rf.fit(X_train,Y_train)\n",
    "    Y_pred_rf = rf.predict(X_test)\n",
    "    current_accuracy = round(accuracy_score(Y_pred_rf,Y_test)*100,2)\n",
    "    if(current_accuracy>max_accuracy):\n",
    "        max_accuracy = current_accuracy\n",
    "        best_x = x\n",
    "\n",
    "rf = RandomForestClassifier(random_state=best_x)\n",
    "rf.fit(X_train,Y_train)\n",
    "Y_pred_rf = rf.predict(X_test)\n",
    "score_rf = round(accuracy_score(Y_pred_rf,Y_test)*100,2)\n",
    "\n",
    "print(\"The accuracy score achieved using Random forest is: \"+str(score_rf)+\" %\")"
   ]
  },
  {
   "cell_type": "code",
   "execution_count": 19,
   "metadata": {
    "colab": {
     "base_uri": "https://localhost:8080/",
     "height": 0
    },
    "id": "V0BJ2HLhZ0LS",
    "outputId": "9cf1937b-856e-48e2-c5f9-da306df733dd"
   },
   "outputs": [
    {
     "name": "stdout",
     "output_type": "stream",
     "text": [
      "The accuracy score achieved using Logistic Regression is: 54.71 %\n",
      "The accuracy score achieved using Naive Bayes is: 79.93 %\n",
      "The accuracy score achieved using Support Vector Machine is: 59.38 %\n",
      "The accuracy score achieved using K-Nearest Neighbors is: 87.47 %\n",
      "The accuracy score achieved using Decision Tree is: 98.44 %\n",
      "The accuracy score achieved using Random Forest is: 99.51 %\n"
     ]
    }
   ],
   "source": [
    "scores = [score_lr,score_nb,score_svm,score_knn,score_dt,score_rf]\n",
    "algorithms = [\"Logistic Regression\",\"Naive Bayes\",\"Support Vector Machine\",\"K-Nearest Neighbors\",\"Decision Tree\",\"Random Forest\"]\n",
    "\n",
    "for i in range(len(algorithms)):\n",
    "    print(\"The accuracy score achieved using \"+algorithms[i]+\" is: \"+str(scores[i])+\" %\")"
   ]
  },
  {
   "cell_type": "code",
   "execution_count": 20,
   "metadata": {
    "colab": {
     "base_uri": "https://localhost:8080/",
     "height": 657
    },
    "id": "VxKEuTHWZ-5B",
    "outputId": "ecf0fea9-e9e7-44a1-9dec-e4c4ac349005"
   },
   "outputs": [
    {
     "name": "stderr",
     "output_type": "stream",
     "text": [
      "<ipython-input-20-d7f8c3b46f44>:9: FutureWarning: \n",
      "\n",
      "Passing `palette` without assigning `hue` is deprecated and will be removed in v0.14.0. Assign the `x` variable to `hue` and set `legend=False` for the same effect.\n",
      "\n",
      "  sns.barplot(x=algorithms, y=scores, palette=\"coolwarm\")\n"
     ]
    },
    {
     "data": {
      "image/png": "[encoded data removed]",
      "text/plain": [
       "<Figure size 1000x600 with 1 Axes>"
      ]
     },
     "metadata": {},
     "output_type": "display_data"
    }
   ],
   "source": [
    "import seaborn as sns\n",
    "import matplotlib.pyplot as plt\n",
    "\n",
    "algorithms = ['Logistic Regression','Naive Bayes','SVM','KNN', 'Decision Tree','Random Forest']\n",
    "scores = [52.71,79.93,59.3,87.47,98.44,99.51]\n",
    "\n",
    "sns.set(rc={'figure.figsize':(10,6)})\n",
    "\n",
    "sns.barplot(x=algorithms, y=scores, palette=\"coolwarm\")\n",
    "\n",
    "plt.xlabel(\"Algorithms\")\n",
    "plt.ylabel(\"Accuracy Score\")\n",
    "\n",
    "plt.show()"
   ]
  },
  {
   "cell_type": "markdown",
   "metadata": {
    "id": "95W7zPK9YPUj"
   },
   "source": [
    "CHECKING THE OTHER PERFORMANCE METRICES FOR DECISION TREE & RANDOM FOREST MODEL"
   ]
  },
  {
   "cell_type": "code",
   "execution_count": 21,
   "metadata": {
    "colab": {
     "base_uri": "https://localhost:8080/",
     "height": 0
    },
    "id": "THymu3aWhDI6",
    "outputId": "f38aece0-ac83-4608-879c-eab84b24d38a"
   },
   "outputs": [
    {
     "name": "stdout",
     "output_type": "stream",
     "text": [
      "Decision Tree Classification Report:\n",
      "\n",
      "              precision    recall  f1-score   support\n",
      "\n",
      "    Low Risk       1.00      0.99      0.99       401\n",
      "    Mid Risk       0.97      0.99      0.98       417\n",
      "   High Risk       0.99      0.98      0.98       403\n",
      "\n",
      "    accuracy                           0.98      1221\n",
      "   macro avg       0.98      0.98      0.98      1221\n",
      "weighted avg       0.98      0.98      0.98      1221\n",
      "\n",
      "Random Forest Classification Report:\n",
      "\n",
      "              precision    recall  f1-score   support\n",
      "\n",
      "    Low Risk       1.00      1.00      1.00       401\n",
      "    Mid Risk       0.99      1.00      0.99       417\n",
      "   High Risk       1.00      0.99      0.99       403\n",
      "\n",
      "    accuracy                           1.00      1221\n",
      "   macro avg       1.00      1.00      1.00      1221\n",
      "weighted avg       1.00      1.00      1.00      1221\n",
      "\n",
      "Decision Tree AUC-ROC Score: 0.99\n",
      "Random Forest AUC-ROC Score: 1.00\n"
     ]
    }
   ],
   "source": [
    "from sklearn.metrics import classification_report, confusion_matrix, roc_auc_score, roc_curve, precision_score, recall_score, f1_score\n",
    "\n",
    "# Decision Tree Metrics\n",
    "print(\"Decision Tree Classification Report:\\n\")\n",
    "print(classification_report(Y_test, Y_pred_dt, target_names=[\"Low Risk\", \"Mid Risk\", \"High Risk\"]))\n",
    "\n",
    "# Random Forest Metrics\n",
    "print(\"Random Forest Classification Report:\\n\")\n",
    "print(classification_report(Y_test, Y_pred_rf, target_names=[\"Low Risk\", \"Mid Risk\", \"High Risk\"]))\n",
    "\n",
    "# ROC-AUC Score (One-vs-Rest for multiclass)\n",
    "dt_auc = roc_auc_score(Y_test, dt.predict_proba(X_test), multi_class='ovr')\n",
    "rf_auc = roc_auc_score(Y_test, rf.predict_proba(X_test), multi_class='ovr')\n",
    "\n",
    "print(f\"Decision Tree AUC-ROC Score: {dt_auc:.2f}\")\n",
    "print(f\"Random Forest AUC-ROC Score: {rf_auc:.2f}\")\n"
   ]
  },
  {
   "cell_type": "markdown",
   "metadata": {
    "id": "9OimHupyYjDS"
   },
   "source": [
    "TO DEPLOY THE PROJECT"
   ]
  },
  {
   "cell_type": "code",
   "execution_count": 22,
   "metadata": {
    "colab": {
     "base_uri": "https://localhost:8080/",
     "height": 0
    },
    "id": "d9tDYSH3hRob",
    "outputId": "b7998e8f-01e1-4c65-8d36-4a8e48a396bf"
   },
   "outputs": [
    {
     "data": {
      "text/plain": [
       "['best_model.pkl']"
      ]
     },
     "execution_count": 22,
     "metadata": {},
     "output_type": "execute_result"
    }
   ],
   "source": [
    "import joblib\n",
    "\n",
    "joblib.dump(rf, \"best_model.pkl\")\n"
   ]
  },
  {
   "cell_type": "code",
   "execution_count": 23,
   "metadata": {
    "colab": {
     "base_uri": "https://localhost:8080/",
     "height": 0
    },
    "id": "eHRDnZSghd9t",
    "outputId": "6d39fdc3-6642-4a5d-cc72-964de4550a68"
   },
   "outputs": [
    {
     "name": "stdout",
     "output_type": "stream",
     "text": [
      "Collecting streamlit\n",
      "  Downloading streamlit-1.44.1-py3-none-any.whl.metadata (8.9 kB)\n",
      "Collecting pyngrok\n",
      "  Downloading pyngrok-7.2.3-py3-none-any.whl.metadata (8.7 kB)\n",
      "Requirement already satisfied: altair<6,>=4.0 in /usr/local/lib/python3.11/dist-packages (from streamlit) (5.5.0)\n",
      "Requirement already satisfied: blinker<2,>=1.0.0 in /usr/local/lib/python3.11/dist-packages (from streamlit) (1.9.0)\n",
      "Requirement already satisfied: cachetools<6,>=4.0 in /usr/local/lib/python3.11/dist-packages (from streamlit) (5.5.2)\n",
      "Requirement already satisfied: click<9,>=7.0 in /usr/local/lib/python3.11/dist-packages (from streamlit) (8.1.8)\n",
      "Requirement already satisfied: numpy<3,>=1.23 in /usr/local/lib/python3.11/dist-packages (from streamlit) (2.0.2)\n",
      "Requirement already satisfied: packaging<25,>=20 in /usr/local/lib/python3.11/dist-packages (from streamlit) (24.2)\n",
      "Requirement already satisfied: pandas<3,>=1.4.0 in /usr/local/lib/python3.11/dist-packages (from streamlit) (2.2.2)\n",
      "Requirement already satisfied: pillow<12,>=7.1.0 in /usr/local/lib/python3.11/dist-packages (from streamlit) (11.1.0)\n",
      "Requirement already satisfied: protobuf<6,>=3.20 in /usr/local/lib/python3.11/dist-packages (from streamlit) (5.29.4)\n",
      "Requirement already satisfied: pyarrow>=7.0 in /usr/local/lib/python3.11/dist-packages (from streamlit) (18.1.0)\n",
      "Requirement already satisfied: requests<3,>=2.27 in /usr/local/lib/python3.11/dist-packages (from streamlit) (2.32.3)\n",
      "Requirement already satisfied: tenacity<10,>=8.1.0 in /usr/local/lib/python3.11/dist-packages (from streamlit) (9.1.2)\n",
      "Requirement already satisfied: toml<2,>=0.10.1 in /usr/local/lib/python3.11/dist-packages (from streamlit) (0.10.2)\n",
      "Requirement already satisfied: typing-extensions<5,>=4.4.0 in /usr/local/lib/python3.11/dist-packages (from streamlit) (4.13.0)\n",
      "Collecting watchdog<7,>=2.1.5 (from streamlit)\n",
      "  Downloading watchdog-6.0.0-py3-none-manylinux2014_x86_64.whl.metadata (44 kB)\n",
      "\u001b[2K     \u001b[90m━━━━━━━━━━━━━━━━━━━━━━━━━━━━━━━━━━━━━━━━\u001b[0m \u001b[32m44.3/44.3 kB\u001b[0m \u001b[31m1.9 MB/s\u001b[0m eta \u001b[36m0:00:00\u001b[0m\n",
      "\u001b[?25hRequirement already satisfied: gitpython!=3.1.19,<4,>=3.0.7 in /usr/local/lib/python3.11/dist-packages (from streamlit) (3.1.44)\n",
      "Collecting pydeck<1,>=0.8.0b4 (from streamlit)\n",
      "  Downloading pydeck-0.9.1-py2.py3-none-any.whl.metadata (4.1 kB)\n",
      "Requirement already satisfied: tornado<7,>=6.0.3 in /usr/local/lib/python3.11/dist-packages (from streamlit) (6.4.2)\n",
      "Requirement already satisfied: PyYAML>=5.1 in /usr/local/lib/python3.11/dist-packages (from pyngrok) (6.0.2)\n",
      "Requirement already satisfied: jinja2 in /usr/local/lib/python3.11/dist-packages (from altair<6,>=4.0->streamlit) (3.1.6)\n",
      "Requirement already satisfied: jsonschema>=3.0 in /usr/local/lib/python3.11/dist-packages (from altair<6,>=4.0->streamlit) (4.23.0)\n",
      "Requirement already satisfied: narwhals>=1.14.2 in /usr/local/lib/python3.11/dist-packages (from altair<6,>=4.0->streamlit) (1.33.0)\n",
      "Requirement already satisfied: gitdb<5,>=4.0.1 in /usr/local/lib/python3.11/dist-packages (from gitpython!=3.1.19,<4,>=3.0.7->streamlit) (4.0.12)\n",
      "Requirement already satisfied: python-dateutil>=2.8.2 in /usr/local/lib/python3.11/dist-packages (from pandas<3,>=1.4.0->streamlit) (2.8.2)\n",
      "Requirement already satisfied: pytz>=2020.1 in /usr/local/lib/python3.11/dist-packages (from pandas<3,>=1.4.0->streamlit) (2025.2)\n",
      "Requirement already satisfied: tzdata>=2022.7 in /usr/local/lib/python3.11/dist-packages (from pandas<3,>=1.4.0->streamlit) (2025.2)\n",
      "Requirement already satisfied: charset-normalizer<4,>=2 in /usr/local/lib/python3.11/dist-packages (from requests<3,>=2.27->streamlit) (3.4.1)\n",
      "Requirement already satisfied: idna<4,>=2.5 in /usr/local/lib/python3.11/dist-packages (from requests<3,>=2.27->streamlit) (3.10)\n",
      "Requirement already satisfied: urllib3<3,>=1.21.1 in /usr/local/lib/python3.11/dist-packages (from requests<3,>=2.27->streamlit) (2.3.0)\n",
      "Requirement already satisfied: certifi>=2017.4.17 in /usr/local/lib/python3.11/dist-packages (from requests<3,>=2.27->streamlit) (2025.1.31)\n",
      "Requirement already satisfied: smmap<6,>=3.0.1 in /usr/local/lib/python3.11/dist-packages (from gitdb<5,>=4.0.1->gitpython!=3.1.19,<4,>=3.0.7->streamlit) (5.0.2)\n",
      "Requirement already satisfied: MarkupSafe>=2.0 in /usr/local/lib/python3.11/dist-packages (from jinja2->altair<6,>=4.0->streamlit) (3.0.2)\n",
      "Requirement already satisfied: attrs>=22.2.0 in /usr/local/lib/python3.11/dist-packages (from jsonschema>=3.0->altair<6,>=4.0->streamlit) (25.3.0)\n",
      "Requirement already satisfied: jsonschema-specifications>=2023.03.6 in /usr/local/lib/python3.11/dist-packages (from jsonschema>=3.0->altair<6,>=4.0->streamlit) (2024.10.1)\n",
      "Requirement already satisfied: referencing>=0.28.4 in /usr/local/lib/python3.11/dist-packages (from jsonschema>=3.0->altair<6,>=4.0->streamlit) (0.36.2)\n",
      "Requirement already satisfied: rpds-py>=0.7.1 in /usr/local/lib/python3.11/dist-packages (from jsonschema>=3.0->altair<6,>=4.0->streamlit) (0.24.0)\n",
      "Requirement already satisfied: six>=1.5 in /usr/local/lib/python3.11/dist-packages (from python-dateutil>=2.8.2->pandas<3,>=1.4.0->streamlit) (1.17.0)\n",
      "Downloading streamlit-1.44.1-py3-none-any.whl (9.8 MB)\n",
      "\u001b[2K   \u001b[90m━━━━━━━━━━━━━━━━━━━━━━━━━━━━━━━━━━━━━━━━\u001b[0m \u001b[32m9.8/9.8 MB\u001b[0m \u001b[31m63.9 MB/s\u001b[0m eta \u001b[36m0:00:00\u001b[0m\n",
      "\u001b[?25hDownloading pyngrok-7.2.3-py3-none-any.whl (23 kB)\n",
      "Downloading pydeck-0.9.1-py2.py3-none-any.whl (6.9 MB)\n",
      "\u001b[2K   \u001b[90m━━━━━━━━━━━━━━━━━━━━━━━━━━━━━━━━━━━━━━━━\u001b[0m \u001b[32m6.9/6.9 MB\u001b[0m \u001b[31m92.9 MB/s\u001b[0m eta \u001b[36m0:00:00\u001b[0m\n",
      "\u001b[?25hDownloading watchdog-6.0.0-py3-none-manylinux2014_x86_64.whl (79 kB)\n",
      "\u001b[2K   \u001b[90m━━━━━━━━━━━━━━━━━━━━━━━━━━━━━━━━━━━━━━━━\u001b[0m \u001b[32m79.1/79.1 kB\u001b[0m \u001b[31m5.7 MB/s\u001b[0m eta \u001b[36m0:00:00\u001b[0m\n",
      "\u001b[?25hInstalling collected packages: watchdog, pyngrok, pydeck, streamlit\n",
      "Successfully installed pydeck-0.9.1 pyngrok-7.2.3 streamlit-1.44.1 watchdog-6.0.0\n"
     ]
    }
   ],
   "source": [
    "!pip install streamlit pyngrok\n"
   ]
  },
  {
   "cell_type": "code",
   "execution_count": 28,
   "metadata": {
    "id": "YgUE9EHeklb7"
   },
   "outputs": [],
   "source": [
    "!pip install streamlit pyngrok --quiet\n"
   ]
  },
  {
   "cell_type": "code",
   "execution_count": 51,
   "metadata": {
    "colab": {
     "base_uri": "https://localhost:8080/",
     "height": 73
    },
    "id": "DN1seJtGu5Ss",
    "outputId": "21367086-3ddf-428c-b4fa-ca06122d4ac2"
   },
   "outputs": [
    {
     "data": {
      "text/html": [
       "\n",
       "     <input type=\"file\" id=\"files-0073cb9d-ca95-4aef-a7f5-42b1d34c8a1b\" name=\"files[]\" multiple disabled\n",
       "        style=\"border:none\" />\n",
       "     <output id=\"result-0073cb9d-ca95-4aef-a7f5-42b1d34c8a1b\">\n",
       "      Upload widget is only available when the cell has been executed in the\n",
       "      current browser session. Please rerun this cell to enable.\n",
       "      </output>\n",
       "      <script>// Copyright 2017 Google LLC\n",
       "//\n",
       "// Licensed under the Apache License, Version 2.0 (the \"License\");\n",
       "// you may not use this file except in compliance with the License.\n",
       "// You may obtain a copy of the License at\n",
       "//\n",
       "//      http://www.apache.org/licenses/LICENSE-2.0\n",
       "//\n",
       "// Unless required by applicable law or agreed to in writing, software\n",
       "// distributed under the License is distributed on an \"AS IS\" BASIS,\n",
       "// WITHOUT WARRANTIES OR CONDITIONS OF ANY KIND, either express or implied.\n",
       "// See the License for the specific language governing permissions and\n",
       "// limitations under the License.\n",
       "\n",
       "/**\n",
       " * @fileoverview Helpers for google.colab Python module.\n",
       " */\n",
       "(function(scope) {\n",
       "function span(text, styleAttributes = {}) {\n",
       "  const element = document.createElement('span');\n",
       "  element.textContent = text;\n",
       "  for (const key of Object.keys(styleAttributes)) {\n",
       "    element.style[key] = styleAttributes[key];\n",
       "  }\n",
       "  return element;\n",
       "}\n",
       "\n",
       "// Max number of bytes which will be uploaded at a time.\n",
       "const MAX_PAYLOAD_SIZE = 100 * 1024;\n",
       "\n",
       "function _uploadFiles(inputId, outputId) {\n",
       "  const steps = uploadFilesStep(inputId, outputId);\n",
       "  const outputElement = document.getElementById(outputId);\n",
       "  // Cache steps on the outputElement to make it available for the next call\n",
       "  // to uploadFilesContinue from Python.\n",
       "  outputElement.steps = steps;\n",
       "\n",
       "  return _uploadFilesContinue(outputId);\n",
       "}\n",
       "\n",
       "// This is roughly an async generator (not supported in the browser yet),\n",
       "// where there are multiple asynchronous steps and the Python side is going\n",
       "// to poll for completion of each step.\n",
       "// This uses a Promise to block the python side on completion of each step,\n",
       "// then passes the result of the previous step as the input to the next step.\n",
       "function _uploadFilesContinue(outputId) {\n",
       "  const outputElement = document.getElementById(outputId);\n",
       "  const steps = outputElement.steps;\n",
       "\n",
       "  const next = steps.next(outputElement.lastPromiseValue);\n",
       "  return Promise.resolve(next.value.promise).then((value) => {\n",
       "    // Cache the last promise value to make it available to the next\n",
       "    // step of the generator.\n",
       "    outputElement.lastPromiseValue = value;\n",
       "    return next.value.response;\n",
       "  });\n",
       "}\n",
       "\n",
       "/**\n",
       " * Generator function which is called between each async step of the upload\n",
       " * process.\n",
       " * @param {string} inputId Element ID of the input file picker element.\n",
       " * @param {string} outputId Element ID of the output display.\n",
       " * @return {!Iterable<!Object>} Iterable of next steps.\n",
       " */\n",
       "function* uploadFilesStep(inputId, outputId) {\n",
       "  const inputElement = document.getElementById(inputId);\n",
       "  inputElement.disabled = false;\n",
       "\n",
       "  const outputElement = document.getElementById(outputId);\n",
       "  outputElement.innerHTML = '';\n",
       "\n",
       "  const pickedPromise = new Promise((resolve) => {\n",
       "    inputElement.addEventListener('change', (e) => {\n",
       "      resolve(e.target.files);\n",
       "    });\n",
       "  });\n",
       "\n",
       "  const cancel = document.createElement('button');\n",
       "  inputElement.parentElement.appendChild(cancel);\n",
       "  cancel.textContent = 'Cancel upload';\n",
       "  const cancelPromise = new Promise((resolve) => {\n",
       "    cancel.onclick = () => {\n",
       "      resolve(null);\n",
       "    };\n",
       "  });\n",
       "\n",
       "  // Wait for the user to pick the files.\n",
       "  const files = yield {\n",
       "    promise: Promise.race([pickedPromise, cancelPromise]),\n",
       "    response: {\n",
       "      action: 'starting',\n",
       "    }\n",
       "  };\n",
       "\n",
       "  cancel.remove();\n",
       "\n",
       "  // Disable the input element since further picks are not allowed.\n",
       "  inputElement.disabled = true;\n",
       "\n",
       "  if (!files) {\n",
       "    return {\n",
       "      response: {\n",
       "        action: 'complete',\n",
       "      }\n",
       "    };\n",
       "  }\n",
       "\n",
       "  for (const file of files) {\n",
       "    const li = document.createElement('li');\n",
       "    li.append(span(file.name, {fontWeight: 'bold'}));\n",
       "    li.append(span(\n",
       "        `(${file.type || 'n/a'}) - ${file.size} bytes, ` +\n",
       "        `last modified: ${\n",
       "            file.lastModifiedDate ? file.lastModifiedDate.toLocaleDateString() :\n",
       "                                    'n/a'} - `));\n",
       "    const percent = span('0% done');\n",
       "    li.appendChild(percent);\n",
       "\n",
       "    outputElement.appendChild(li);\n",
       "\n",
       "    const fileDataPromise = new Promise((resolve) => {\n",
       "      const reader = new FileReader();\n",
       "      reader.onload = (e) => {\n",
       "        resolve(e.target.result);\n",
       "      };\n",
       "      reader.readAsArrayBuffer(file);\n",
       "    });\n",
       "    // Wait for the data to be ready.\n",
       "    let fileData = yield {\n",
       "      promise: fileDataPromise,\n",
       "      response: {\n",
       "        action: 'continue',\n",
       "      }\n",
       "    };\n",
       "\n",
       "    // Use a chunked sending to avoid message size limits. See b/62115660.\n",
       "    let position = 0;\n",
       "    do {\n",
       "      const length = Math.min(fileData.byteLength - position, MAX_PAYLOAD_SIZE);\n",
       "      const chunk = new Uint8Array(fileData, position, length);\n",
       "      position += length;\n",
       "\n",
       "      const base64 = btoa(String.fromCharCode.apply(null, chunk));\n",
       "      yield {\n",
       "        response: {\n",
       "          action: 'append',\n",
       "          file: file.name,\n",
       "          data: base64,\n",
       "        },\n",
       "      };\n",
       "\n",
       "      let percentDone = fileData.byteLength === 0 ?\n",
       "          100 :\n",
       "          Math.round((position / fileData.byteLength) * 100);\n",
       "      percent.textContent = `${percentDone}% done`;\n",
       "\n",
       "    } while (position < fileData.byteLength);\n",
       "  }\n",
       "\n",
       "  // All done.\n",
       "  yield {\n",
       "    response: {\n",
       "      action: 'complete',\n",
       "    }\n",
       "  };\n",
       "}\n",
       "\n",
       "scope.google = scope.google || {};\n",
       "scope.google.colab = scope.google.colab || {};\n",
       "scope.google.colab._files = {\n",
       "  _uploadFiles,\n",
       "  _uploadFilesContinue,\n",
       "};\n",
       "})(self);\n",
       "</script> "
      ],
      "text/plain": [
       "<IPython.core.display.HTML object>"
      ]
     },
     "metadata": {},
     "output_type": "display_data"
    },
    {
     "name": "stdout",
     "output_type": "stream",
     "text": [
      "Saving kuddle_kick.png to kuddle_kick.png\n"
     ]
    }
   ],
   "source": [
    "from google.colab import files\n",
    "uploaded = files.upload()\n"
   ]
  },
  {
   "cell_type": "code",
   "execution_count": 161,
   "metadata": {
    "colab": {
     "base_uri": "https://localhost:8080/",
     "height": 0
    },
    "id": "9V6tfA12sfDc",
    "outputId": "a446fe81-4800-4bf7-86a3-10a391d8a8e8"
   },
   "outputs": [
    {
     "name": "stdout",
     "output_type": "stream",
     "text": [
      "Overwriting kuddle_kick_app.py\n"
     ]
    }
   ],
   "source": [
    "%%writefile kuddle_kick_app.py\n",
    "import streamlit as st\n",
    "import pandas as pd\n",
    "import numpy as np\n",
    "import os\n",
    "from sklearn.ensemble import RandomForestClassifier\n",
    "from sklearn.tree import DecisionTreeClassifier\n",
    "import joblib\n",
    "import pickle\n",
    "\n",
    "\n",
    "st.set_page_config(page_title=\"Kuddle & Kick 🤱\", layout=\"wide\")\n",
    "\n",
    "\n",
    "@st.cache_resource\n",
    "def load_model(model_type=\"rf\"):\n",
    "    if model_type == \"rf\":\n",
    "        return joblib.load(\"random_forest.pkl\")\n",
    "    else:\n",
    "        return joblib.load(\"decision_tree.pkl\")\n",
    "\n",
    "\n",
    "pages = [\"Home\", \"Calculation\",  \"About Us\", \"Support\"]\n",
    "page = st.sidebar.selectbox(\"Navigate\", pages)\n",
    "\n",
    "\n",
    "if page == \"Home\":\n",
    "    st.markdown(\"<h1 style='text-align: center; color: #ff66a6;'>Kuddle & Kick🤰💖</h1>\", unsafe_allow_html=True)\n",
    "\n",
    "\n",
    "    col1, col2, col3 = st.columns([1, 3, 1])\n",
    "\n",
    "    with col1:\n",
    "        st.empty()\n",
    "\n",
    "    with col2:\n",
    "        try:\n",
    "            st.image(\"kuddle_kick.png\", width=350)\n",
    "        except:\n",
    "            st.warning(\"⚠️ Logo image not found. Please upload 'kuddle_kick.png'.\")\n",
    "\n",
    "        st.markdown(\"<div style='text-align: left; font-size: 18px; color: #ff66a6;'>An intelligent pregnancy risk detection & support system</div>\", unsafe_allow_html=True)\n",
    "\n",
    "    with col3:\n",
    "        st.empty()\n",
    "\n",
    "    st.markdown(\"---\")\n",
    "\n",
    "    st.markdown(\"### 🏠 How This Project Works:\")\n",
    "    st.markdown(\"\"\"\n",
    "    - 🔍 This app uses machine learning models to assess pregnancy risk levels (Low, Mid, High).\n",
    "    - 📈 Based on health inputs, it predicts the risk and gives immediate alerts.\n",
    "    - 🩺 Suggests home remedies and first aid measures for emergency cases.\n",
    "    - 📁 Allows **batch predictions** via CSV upload.\n",
    "    - 📊 Shows **prediction history** for reference and tracking.\n",
    "    - 🤖 Includes a **support chatbot** to guide you with hospitals, remedies & ambulance services.\n",
    "    \"\"\")\n",
    "\n",
    "\n",
    "elif page == \"Calculation\":\n",
    "    st.title(\"🤰 Pregnancy Risk Calculation\")\n",
    "\n",
    "\n",
    "    try:\n",
    "        with open(\"best_model.pkl\", \"rb\") as f:\n",
    "            model = pickle.load(f)\n",
    "    except FileNotFoundError:\n",
    "        st.error(\"Model file not found! Make sure 'best_model.pkl' is in the same directory.\")\n",
    "        st.stop()\n",
    "\n",
    "    st.header(\"🔎 Single Patient Prediction\")\n",
    "\n",
    "\n",
    "    with st.form(\"single_prediction_form\"):\n",
    "        age = st.slider(\"Age\", min_value=15, max_value=50, value=25)\n",
    "        temp = st.number_input(\"Body Temperature (°F)\", min_value=90.0, max_value=110.0)\n",
    "        heart_rate = st.number_input(\"Heart Rate (bpm)\", min_value=40, max_value=200)\n",
    "        sys_bp = st.number_input(\"Systolic Blood Pressure (mm Hg)\", min_value=80, max_value=200)\n",
    "        dia_bp = st.number_input(\"Diastolic Blood Pressure (mm Hg)\", min_value=50, max_value=140)\n",
    "        bmi = st.number_input(\"BMI\", min_value=10.0, max_value=50.0)\n",
    "        hba1c = st.number_input(\"Blood Glucose (HbA1c)\", min_value=4.0, max_value=15.0)\n",
    "        fasting_sugar = st.number_input(\"Blood Glucose (Fasting mg/dl)\", min_value=50, max_value=300)\n",
    "\n",
    "        submit = st.form_submit_button(\"🔍 Predict Risk\")\n",
    "\n",
    "    if submit:\n",
    "        try:\n",
    "            input_data = pd.DataFrame([[age, temp, heart_rate, sys_bp, dia_bp, bmi, hba1c, fasting_sugar]],\n",
    "                                      columns=['Age', 'Body Temperature', 'Heart rate(bpm)',\n",
    "                                               'Systolic Blood Pressure(mm Hg)', 'Diastolic Blood Pressure(mm Hg)',\n",
    "                                               'BMI', 'Blood Glucose(HbA1c)', 'Blood Glucose(Fasting hour-mg/dl)'])\n",
    "\n",
    "            prediction = model.predict(input_data)[0]\n",
    "            category = {0: \"Low Risk ✅\", 1: \"Mid Risk ⚠️\", 2: \"High Risk 🚨\"}[prediction]\n",
    "\n",
    "            st.success(f\"🧠 Predicted Pregnancy Risk: **{category}**\")\n",
    "\n",
    "            if prediction == 2:\n",
    "                st.warning(\"🚨 **Immediate Attention Required:** Lie down, stay hydrated, avoid stress, and consult a doctor.\")\n",
    "            elif prediction == 1:\n",
    "                st.info(\"⚠️ **Monitor Regularly:** Maintain rest and hydration. Consider medical guidance.\")\n",
    "\n",
    "\n",
    "            input_data[\"Predicted Risk Level\"] = prediction\n",
    "            input_data[\"Risk Category\"] = category\n",
    "            input_data[\"Source\"] = \"Single\"\n",
    "            input_data.to_csv(\"prediction_history.csv\", mode='a', index=False, header=not os.path.exists(\"prediction_history.csv\"))\n",
    "\n",
    "        except Exception as e:\n",
    "            st.error(f\"Error in prediction: {e}\")\n",
    "\n",
    "    st.header(\"📂 Batch Prediction\")\n",
    "    uploaded_file = st.file_uploader(\"Upload a CSV file with patient data\", type=[\"csv\"])\n",
    "\n",
    "    if uploaded_file is not None:\n",
    "        try:\n",
    "            batch_data = pd.read_csv(uploaded_file, encoding='latin-1')\n",
    "\n",
    "\n",
    "            required_features = ['Age', 'Body Temperature', 'Heart rate(bpm)',\n",
    "                                 'Systolic Blood Pressure(mm Hg)', 'Diastolic Blood Pressure(mm Hg)',\n",
    "                                 'BMI', 'Blood Glucose(HbA1c)', 'Blood Glucose(Fasting hour-mg/dl)']\n",
    "\n",
    "            # Check for missing required columns\n",
    "            missing_cols = [col for col in required_features if col not in batch_data.columns]\n",
    "            if missing_cols:\n",
    "                st.error(f\"❌ Missing required columns: {', '.join(missing_cols)}\")\n",
    "                st.stop()\n",
    "\n",
    "            # Show warning for extra columns\n",
    "            extra_cols = [col for col in batch_data.columns if col not in required_features]\n",
    "            if extra_cols:\n",
    "                st.warning(f\"⚠️ Ignoring extra columns: {', '.join(extra_cols)}\")\n",
    "\n",
    "            # Keep only the required columns\n",
    "            clean_data = batch_data[required_features]\n",
    "\n",
    "            # Predict\n",
    "            batch_predictions = model.predict(clean_data)\n",
    "            batch_probs = model.predict_proba(clean_data)\n",
    "\n",
    "            # Prepare results DataFrame\n",
    "            results_df = batch_data.copy()\n",
    "            results_df[\"Predicted Risk Level\"] = batch_predictions\n",
    "            results_df[\"Risk Category\"] = results_df[\"Predicted Risk Level\"].map({0: \"Low\", 1: \"Mid\", 2: \"High\"})\n",
    "\n",
    "            # Optional: Add remedies or warning\n",
    "            def remedy(risk):\n",
    "                if risk == 2:\n",
    "                    return \"⚠️ High Risk - Consult doctor immediately.\\n🛏️ Lie down, stay hydrated, and avoid stress.\"\n",
    "                elif risk == 1:\n",
    "                    return \"⚠️ Mid Risk - Monitor regularly.\\n🫗 Drink fluids and take adequate rest.\"\n",
    "                else:\n",
    "                    return \"✅ Low Risk - Keep following a healthy lifestyle.\"\n",
    "            results_df[\"Advice\"] = results_df[\"Predicted Risk Level\"].apply(remedy)\n",
    "\n",
    "            st.success(\"✅ Predictions completed.\")\n",
    "            st.dataframe(results_df)\n",
    "\n",
    "            # Download option\n",
    "            csv_download = results_df.to_csv(index=False).encode(\"utf-8\")\n",
    "            st.download_button(\"⬇️ Download Results as CSV\", data=csv_download, file_name=\"pregnancy_risk_predictions.csv\", mime=\"text/csv\")\n",
    "\n",
    "            # Save to history\n",
    "            results_df.to_csv(\"prediction_history.csv\", index=False)\n",
    "\n",
    "        except Exception as e:\n",
    "            st.error(f\"❌ An error occurred while processing the file:\\n\\n{e}\")\n",
    "\n",
    "\n",
    "\n",
    "\n",
    "\n",
    "\n",
    "elif page == \"About Us\":\n",
    "    st.title(\"📖 About Kuddle & Kick\")\n",
    "    st.markdown(\"<h2 style='color: #ff66a6;'>🧩 Introduction</h2>\", unsafe_allow_html=True)\n",
    "    st.markdown(\"\"\"\n",
    "\n",
    "Pregnancy is a delicate and crucial phase in a woman’s life, where timely healthcare and proper monitoring can make a life-changing difference.\n",
    "\n",
    "However, in many cases, early signs of complications often go unnoticed due to lack of awareness or access to medical support.\n",
    "\n",
    "Kuddle & Kick is an AI-powered intelligent system designed to assess pregnancy risk levels based on vital health parameters. It not only predicts whether a pregnancy is at Low, Mid, or High risk, but also offers instant suggestions, home remedies, and connects users with nearby doctors, hospitals, and emergency services.\n",
    "\n",
    "The goal is to empower expecting mothers and caretakers with a digital companion that ensures proactive care and peace of mind throughout the pregnancy journey..\n",
    "\n",
    "    \"\"\")\n",
    "    st.markdown(\"<h2 style='color: #ff66a6;'>⚠️🛠️ Challenges During Pregnancy</h2>\", unsafe_allow_html=True)\n",
    "\n",
    "    st.markdown(\"\"\"\n",
    "\n",
    "Pregnancy, while beautiful, often brings along multiple health challenges and uncertainties. Some of the most common issues that can go unnoticed or unmanaged without proper care include:\n",
    "\n",
    "Unpredictable Risk Factors: Sudden fluctuations in blood pressure, blood sugar, or heart rate can pose serious threats to both mother and baby.\n",
    "\n",
    "Lack of Early Warning: Many women are unaware of the warning signs of complications like gestational diabetes, preeclampsia, or anemia.\n",
    "\n",
    "Limited Access to Healthcare: In rural or underserved areas, access to medical experts or emergency support can be delayed or unavailable.\n",
    "\n",
    "Delayed Diagnosis: Manual evaluation of risk can often be time-consuming or inaccurate without proper tools.\n",
    "\n",
    "Emotional Stress and Anxiety: Fear of the unknown and lack of information can cause emotional distress during pregnancy.\n",
    "\n",
    "Overlooked Monitoring: Continuous tracking of vitals like BMI, glucose levels, or blood pressure isn’t always possible at home.\n",
    "\n",
    "    \"\"\")\n",
    "    st.markdown(\"<h2 style='color: #ff66a6;'>🌟 Benefits of Using Kuddle & Kick</h2>\", unsafe_allow_html=True)\n",
    "\n",
    "    st.markdown(\"\"\"\n",
    "\n",
    "Using **Kuddle & Kick** during pregnancy offers several key advantages that ensure both the mother’s and baby’s well-being. Here's how the app makes a difference:\n",
    "\n",
    "- ✅ **Early Risk Detection**: Predicts potential pregnancy complications early using intelligent ML algorithms based on health vitals.\n",
    "- ✅ **Instant Alerts & Remedies**: Provides immediate alerts for high-risk predictions along with home remedies and first-aid tips.\n",
    "- ✅ **Batch & Individual Assessments**: Supports both single and batch risk analysis through direct input or CSV uploads—helpful for clinics too!\n",
    "- ✅ **Support System Access**: Offers quick access to nearby doctors, hospitals, and ambulance contacts via chatbot support.\n",
    "- ✅ **Accessible Anytime, Anywhere**: Can be used remotely on any device, making pregnancy monitoring easier even in underserved regions.\n",
    "- ✅ **User History Tracking**: Keeps a log of previous predictions for easy monitoring and follow-ups.\n",
    "- ✅ **Emotional Assurance**: Reduces anxiety by keeping users informed and guided throughout their pregnancy journey.\n",
    "- ✅ **Time-Saving & Cost-Effective**: Cuts down on unnecessary hospital visits through preliminary digital screenings.\n",
    "\n",
    "\n",
    "\n",
    "**Kuddle & Kick** acts as a personal pregnancy companion, helping expecting mothers take charge of their health confidently, with knowledge and care at their fingertips. 🤰💖\n",
    "\n",
    "     \"\"\")\n",
    "\n",
    "    st.markdown(\"<h2 style='color: #ff66a6;'>🔚 Conclusion</h2>\", unsafe_allow_html=True)\n",
    "    st.markdown(\"\"\"\n",
    "\n",
    "\n",
    "  Kuddle & Kick was developed with a deep sense of empathy and technological vision to support pregnant individuals with timely health insights and meaningful care recommendations. By combining machine learning intelligence with real-world medical parameters, the app acts as a virtual assistant to assess, inform, and empower users throughout their pregnancy journey.\n",
    "\n",
    "It not only reduces the burden on healthcare systems by enabling pre-checks and early alerts but also serves as a companion offering comfort, guidance, and accessible support—even in emergencies.\n",
    "\n",
    "As we move forward, Kuddle & Kick aims to evolve into a more personalized and widely accessible digital maternity companion—where every mother feels safe, heard, and cared for. 💫\n",
    "    \"\"\")\n",
    "\n",
    "\n",
    "elif page == \"Support\":\n",
    "    st.markdown(\"<h2 style='text-align: center; color: #ff66a6;'>K & K Assistant 🤝</h2>\", unsafe_allow_html=True)\n",
    "    st.markdown(\"### Choose the type of support you need:\")\n",
    "\n",
    "    show_hospitals = st.checkbox(\"🏥 Find Nearby Hospitals\")\n",
    "    show_doctors = st.checkbox(\"👩‍⚕️ Contact Gynecologists\")\n",
    "    show_remedy_issues = st.checkbox(\"🤕 Facing issues / feeling sick\")\n",
    "    show_ambulance = st.checkbox(\"🚑 Emergency Ambulance Contacts\")\n",
    "\n",
    "    if show_hospitals:\n",
    "        st.subheader(\"🏥 Hospitals near Bhubaneswar\")\n",
    "        st.markdown(\"\"\"\n",
    "        #### 📍 Recommended Hospitals:\n",
    "\n",
    "        1. **SUM Ultimate Medicare** – *Kalinga Nagar*\n",
    "           📞 [0674 710 7111](tel:+916747107111)\n",
    "\n",
    "\n",
    "        2. **KIMS Hospital** – *Chandrasekharpur*\n",
    "           📞 [0674 230 4400](tel:+916742304400)\n",
    "\n",
    "\n",
    "        3. **Apollo Hospitals** – *Sainik School Road*\n",
    "           📞 [1066](tel:1066) / [0674 666 1010](tel:+916746661010)\n",
    "\n",
    "\n",
    "        4. **Care Hospitals** – *Prachi Enclave*\n",
    "           📞 [90900 32222](tel:+919090032222)\n",
    "\n",
    "\n",
    "        5. **Capital Hospital** – *Unit 6, Bhubaneswar*\n",
    "           📞 [0674 239 2478](tel:+916742392478)\n",
    "\n",
    "        \"\"\")\n",
    "\n",
    "    if show_doctors:\n",
    "        st.subheader(\"👩‍⚕️ Gynecologists near Bhubaneswar\")\n",
    "        st.markdown(\"\"\"\n",
    "        #### 👩‍⚕️ Recommended Specialists:\n",
    "\n",
    "        1. **Dr. Lopamudra Mishra** – Apollo Hospital\n",
    "           📞 [94372 89898](tel:+919437289898)\n",
    "\n",
    "        2. **Dr. Anuradha Panda** – KIMS Hospital\n",
    "           📞 [94370 63080](tel:+919437063080)\n",
    "\n",
    "        3. **Dr. Seema Singh** – Care Hospitals\n",
    "           📞 [90900 32222](tel:+919090032222)\n",
    "\n",
    "        4. **Dr. Sudha Prasad** – SUM Ultimate Medicare\n",
    "           📞 [0674 710 7111](tel:+916747107111)\n",
    "        \"\"\")\n",
    "\n",
    "    if show_remedy_issues:\n",
    "        st.subheader(\"🩺 Select Pregnancy Complication:\")\n",
    "        complication = st.multiselect(\"Select any symptoms you're facing:\", [\n",
    "            \"Headache\", \"Vomiting\", \"Back Pain\", \"Dizziness\", \"Swelling\", \"Abdominal Pain\", \"Fever\", \"Fatigue\", \"Nausea\"\n",
    "        ])\n",
    "\n",
    "        remedies = {\n",
    "            \"Headache\": \"💡 Home Remedy: Apply a cold compress to the forehead and rest in a dark, quiet room. Avoid screen time.\",\n",
    "            \"Vomiting\": \"💡 Home Remedy: Sip ginger tea or lemon water. Eat small, frequent bland meals.\",\n",
    "            \"Back Pain\": \"💡 Home Remedy: Apply a warm compress. Try light prenatal yoga or gentle stretching.\",\n",
    "            \"Dizziness\": \"💡 Home Remedy: Lie down on your side and drink water. Avoid sudden movements.\",\n",
    "            \"Swelling\": \"💡 Home Remedy: Elevate your feet, stay hydrated, and avoid salty food.\",\n",
    "            \"Abdominal Pain\": \"💡 Home Remedy: Rest, apply warm compress on sides (not directly on belly). Avoid heavy meals.\",\n",
    "            \"Fever\": \"⚠️ Warning: Seek medical attention immediately.\",\n",
    "            \"Fatigue\": \"💡 Home Remedy: Take short naps, eat iron-rich food like spinach, and stay hydrated.\",\n",
    "            \"Nausea\": \"💡 Home Remedy: Eat dry crackers before getting up, avoid strong odors, and try ginger candy or tea.\"\n",
    "        }\n",
    "\n",
    "        if complication:\n",
    "            for issue in complication:\n",
    "                st.warning(f\"⚠️ You selected: {issue}\")\n",
    "                st.info(remedies.get(issue, \"Please consult a doctor for this issue.\"))\n",
    "\n",
    "    if show_ambulance:\n",
    "        st.subheader(\"🚑 Emergency Ambulance Contacts\")\n",
    "        st.markdown(\"\"\"\n",
    "        #### 🚨 Emergency Helpline Numbers:\n",
    "\n",
    "        - **108 – Odisha Government Ambulance Service**\n",
    "          📞 [108](tel:108)\n",
    "\n",
    "        - **Apollo Emergency**\n",
    "          📞 [1066](tel:1066)\n",
    "\n",
    "        - **KIMS Ambulance**\n",
    "          📞 [94384 43333](tel:+919438443333)\n",
    "\n",
    "        - **SUM Hospital Ambulance**\n",
    "          📞 [0674 710 7111](tel:+916747107111)\n",
    "        \"\"\")\n",
    "\n",
    "\n"
   ]
  },
  {
   "cell_type": "code",
   "execution_count": 162,
   "metadata": {
    "colab": {
     "base_uri": "https://localhost:8080/",
     "height": 0
    },
    "id": "nU2duVedshim",
    "outputId": "cf07ccc1-f93c-463a-fcb9-361475818995"
   },
   "outputs": [
    {
     "name": "stdout",
     "output_type": "stream",
     "text": [
      "🔗 Streamlit App: NgrokTunnel: \"https://be35-34-74-176-200.ngrok-free.app\" -> \"http://localhost:8501\"\n"
     ]
    }
   ],
   "source": [
    "from pyngrok import ngrok\n",
    "ngrok.set_auth_token(\"2omlx5bUWtKc3tgGzD3SPXnFUGJ_4FX7SsLrmrgXDd2nY84o\")\n",
    "ngrok.kill()\n",
    "\n",
    "public_url = ngrok.connect(8501, \"http\")\n",
    "print(f\"🔗 Streamlit App: {public_url}\")\n",
    "\n",
    "!streamlit run kuddle_kick_app.py &>/dev/null &\n"
   ]
  }
 ],
 "metadata": {
  "colab": {
   "provenance": []
  },
  "kernelspec": {
   "display_name": "Python 3 (ipykernel)",
   "language": "python",
   "name": "python3"
  },
  "language_info": {
   "codemirror_mode": {
    "name": "ipython",
    "version": 3
   },
   "file_extension": ".py",
   "mimetype": "text/x-python",
   "name": "python",
   "nbconvert_exporter": "python",
   "pygments_lexer": "ipython3",
   "version": "3.12.4"
  }
 },
 "nbformat": 4,
 "nbformat_minor": 4
}
